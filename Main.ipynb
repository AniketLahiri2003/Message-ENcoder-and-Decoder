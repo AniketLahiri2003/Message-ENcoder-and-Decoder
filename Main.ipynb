{
 "cells": [
  {
   "cell_type": "code",
   "execution_count": 1,
   "id": "b845ebba-fc48-425a-9980-ce0d564ac64b",
   "metadata": {},
   "outputs": [],
   "source": [
    "from tkinter import *\n",
    "import base64"
   ]
  },
  {
   "cell_type": "code",
   "execution_count": 2,
   "id": "2908beea-1e98-40a8-8bfd-8e6497cc5544",
   "metadata": {},
   "outputs": [
    {
     "data": {
      "text/plain": [
       "''"
      ]
     },
     "execution_count": 2,
     "metadata": {},
     "output_type": "execute_result"
    }
   ],
   "source": [
    "root=Tk()\n",
    "root.geometry('600x400')\n",
    "root.resizable(0,0)\n",
    "root.title(\"Encrypt/Decrypt Message\")\n"
   ]
  },
  {
   "cell_type": "code",
   "execution_count": 4,
   "id": "33baac72-80f2-4f8d-af4c-741690137811",
   "metadata": {},
   "outputs": [],
   "source": [
    "Label(root, text='ENCODE DECODE', font='arial 20 bold').pack()\n",
    "\n",
    "Label(root, text=\"SimpleCrypt\", font='arial 20 bold').pack(side=BOTTOM)\n"
   ]
  },
  {
   "cell_type": "code",
   "execution_count": 5,
   "id": "4f086c7a-3ff6-4276-9017-7905eb363ffa",
   "metadata": {},
   "outputs": [],
   "source": [
    "Text = StringVar()\n",
    "private_key = StringVar()\n",
    "mode = StringVar()\n",
    "Result = StringVar()"
   ]
  },
  {
   "cell_type": "code",
   "execution_count": 6,
   "id": "aceadbd3-1b25-4033-8573-adfc01586fd2",
   "metadata": {},
   "outputs": [],
   "source": [
    "def Encode(key, message):\n",
    "    enc = []\n",
    "\n",
    "    for i in range(len(message)):\n",
    "        key_c = key[i % len(key)]\n",
    "        enc.append(chr((ord(message[i]) + ord(key_c)) % 256))\n",
    "    return base64.urlsafe_b64encode(\"\".join(enc).encode()).decode()\n"
   ]
  },
  {
   "cell_type": "code",
   "execution_count": 7,
   "id": "079682a5-c634-4155-9216-cec9d97a17b9",
   "metadata": {},
   "outputs": [],
   "source": [
    "def Decode(key, message):\n",
    "    dec = []\n",
    "    message = base64.urlsafe_b64decode(message).decode()\n",
    "\n",
    "    for i in range(len(message)):\n",
    "        key_c = key[i % len(key)]\n",
    "        dec.append(chr((256 + ord(message[i]) - ord(key_c)) % 256))\n",
    "    return \"\".join(dec)\n"
   ]
  },
  {
   "cell_type": "code",
   "execution_count": 8,
   "id": "81d91e16-b393-495b-8cca-0d40bc81e706",
   "metadata": {},
   "outputs": [],
   "source": [
    "def Mode():\n",
    "    if(mode.get() == 'e'):\n",
    "        Result.set(Encode(private_key.get(), Text.get()))\n",
    "    elif(mode.get() == 'd'):\n",
    "        Result.set(Decode(private_key.get(), Text.get()))\n",
    "    else:\n",
    "        Result.set('Invalid Mode')"
   ]
  },
  {
   "cell_type": "code",
   "execution_count": 9,
   "id": "a2abfff7-ae78-4773-9d68-f1bd374e87b3",
   "metadata": {},
   "outputs": [],
   "source": [
    "def Exit():\n",
    "    root.destroy()"
   ]
  },
  {
   "cell_type": "code",
   "execution_count": 10,
   "id": "6427c32f-b211-44a6-acf6-851447b07953",
   "metadata": {},
   "outputs": [],
   "source": [
    "def Reset():\n",
    "    Text.set(\"\")\n",
    "    private_key.set(\"\")\n",
    "    mode.set(\"\")\n",
    "    Result.set(\"\")"
   ]
  },
  {
   "cell_type": "code",
   "execution_count": 11,
   "id": "7f762386-e151-44dd-a89c-2c34b8c03718",
   "metadata": {},
   "outputs": [],
   "source": [
    "Label(root, font= 'arial 12 bold', text='MESSAGE').place(x= 60,y=60)\n",
    "Entry(root, font = 'arial 10', textvariable = Text, bg = 'ghost white').place(x=290, y = 60)\n",
    "\n",
    "Label(root, font = 'arial 12 bold', text ='KEY').place(x=60, y = 90)\n",
    "Entry(root, font = 'arial 10', textvariable = private_key , bg ='ghost white').place(x=290, y = 90)\n",
    "\n",
    "Label(root, font = 'arial 12 bold', text ='MODE(e-encode, d-decode)').place(x=60, y = 120)\n",
    "Entry(root, font = 'arial 10', textvariable = mode , bg= 'ghost white').place(x=290, y = 120)\n",
    "Entry(root, font = 'arial 10 bold', textvariable = Result, bg ='ghost white').place(x=290, y = 150)\n",
    "\n",
    "Button(root, font = 'arial 10 bold', text = 'RESULT'  ,padx =2,bg ='LightGray' ,command = Mode).place(x=60, y = 150)\n",
    "\n",
    "Button(root, font = 'arial 10 bold' ,text ='RESET' ,width =6, command = Reset,bg = 'LimeGreen', padx=2).place(x=80, y = 190)\n",
    "\n",
    "Button(root, font = 'arial 10 bold',text= 'EXIT' , width = 6, command = Exit,bg = 'OrangeRed', padx=2, pady=2).place(x=180, y = 190)\n",
    "\n",
    "root.mainloop()"
   ]
  },
  {
   "cell_type": "code",
   "execution_count": null,
   "id": "82d21b28-c53a-44a0-a8aa-133655f37e2b",
   "metadata": {},
   "outputs": [],
   "source": []
  }
 ],
 "metadata": {
  "kernelspec": {
   "display_name": "Python 3 (ipykernel)",
   "language": "python",
   "name": "python3"
  },
  "language_info": {
   "codemirror_mode": {
    "name": "ipython",
    "version": 3
   },
   "file_extension": ".py",
   "mimetype": "text/x-python",
   "name": "python",
   "nbconvert_exporter": "python",
   "pygments_lexer": "ipython3",
   "version": "3.11.5"
  }
 },
 "nbformat": 4,
 "nbformat_minor": 5
}
